{
 "cells": [
  {
   "cell_type": "code",
   "execution_count": 1,
   "metadata": {
    "tags": [
     "outputPrepend"
    ]
   },
   "outputs": [
    {
     "output_type": "stream",
     "name": "stdout",
     "text": "Open            Closed         \nA               A              \nBC              A              \nBDFL            AC             \nBDFM            ACL            \n\n\nDFS PATH: \n['A', 'C', 'L']\n"
    }
   ],
   "source": [
    "import pandas as pd\n",
    "from graphviz import Graph\n",
    "\n",
    "print (\"{:<15} {:<15}\".format('Open','Closed'))\n",
    "def dfsCalculate(edgeList, initialNode, goalNode):\n",
    "    Open = []\n",
    "    Closed = []\n",
    "    traversed = []\n",
    "    OpenPrint = []\n",
    "    ClosedPrint = [initialNode]\n",
    "    dot = Graph(comment='DFS')\n",
    "    str1=\"\"\n",
    "    str2=\"\"\n",
    "    Open.append(initialNode)\n",
    "    while(Open):\n",
    "        for i in Open:\n",
    "            str1 += i\n",
    "        OpenPrint.append(str1)\n",
    "        str1 = \"\"\n",
    "        currentNode = Open[-1]\n",
    "        if(currentNode == goalNode):\n",
    "            break\n",
    "\n",
    "        Open = Open[0:len(Open)-1]\n",
    "\n",
    "        Closed.append(currentNode)\n",
    "        for i in Closed:\n",
    "            str2 += i\n",
    "        ClosedPrint.append(str2)\n",
    "        str2=\"\"\n",
    "        #print(Closed)\n",
    "\n",
    "        uniqueFrom = []\n",
    "        childFrom = edgeList[(edgeList[\"from\"]==currentNode)]\n",
    "        for i in childFrom['to']:\n",
    "            if i not in Closed:\n",
    "                uniqueFrom.append(i)\n",
    "\n",
    "        uniqueTo = []\n",
    "        childTo = edgeList[(edgeList['to']==currentNode)]\n",
    "        for i in childTo['from']:\n",
    "            if i not in Closed:\n",
    "                uniqueTo.append(i)\n",
    "\n",
    "        childNode = []\n",
    "\n",
    "        for i in uniqueFrom:\n",
    "            if i not in Open:\n",
    "                Open.append(i)\n",
    "                childNode.append(i)\n",
    "        for i in uniqueTo:\n",
    "            if i not in Open:\n",
    "                Open.append(i)\n",
    "                childNode.append(i)\n",
    "        \n",
    "\n",
    "        for i in childNode:\n",
    "            traversed.append(currentNode+i)\n",
    "\n",
    "        #print(traversed)\n",
    "\n",
    "        dot.node(currentNode,color=\"red\")\n",
    "    for i,j in zip(OpenPrint,ClosedPrint):\n",
    "        print (\"{:<15} {:<15}\".format(i,j))\n",
    "    dot.node(goalNode,color=\"green\")\n",
    "    dot.edges(traversed)\n",
    "\n",
    "    dot.render('output/dfs.gv', view=True)  \n",
    "    'output/dfs.gv.pdf'\n",
    "\n",
    "    return Closed\n",
    "\n",
    "edgeList = pd.read_csv('edge_list.csv')\n",
    "\n",
    "\n",
    "dfsPath = dfsCalculate(edgeList,\"A\",\"M\")\n",
    "print(\"\\n\")\n",
    "print(\"DFS PATH: \")\n",
    "print(dfsPath)"
   ]
  },
  {
   "cell_type": "code",
   "execution_count": null,
   "metadata": {},
   "outputs": [],
   "source": []
  }
 ],
 "metadata": {
  "language_info": {
   "codemirror_mode": {
    "name": "ipython",
    "version": 3
   },
   "file_extension": ".py",
   "mimetype": "text/x-python",
   "name": "python",
   "nbconvert_exporter": "python",
   "pygments_lexer": "ipython3",
   "version": 3
  },
  "orig_nbformat": 2,
  "kernelspec": {
   "name": "python_defaultSpec_1611285091142",
   "display_name": "Python 3.8.5 64-bit"
  }
 },
 "nbformat": 4,
 "nbformat_minor": 2
}