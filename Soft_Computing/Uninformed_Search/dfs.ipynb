{
 "cells": [
  {
   "cell_type": "code",
   "execution_count": 7,
   "metadata": {
    "tags": [
     "outputPrepend"
    ]
   },
   "outputs": [
    {
     "output_type": "stream",
     "name": "stdout",
     "text": "['AB', 'AC']\n['AB', 'AC', 'CD', 'CF', 'CL']\n['AB', 'AC', 'CD', 'CF', 'CL', 'LM']\nDFS PATH: \n['A', 'C', 'L']\n"
    }
   ],
   "source": [
    "import pandas as pd\n",
    "from graphviz import Graph\n",
    "\n",
    "def dfsCalculate(edgeList, initialNode, goalNode):\n",
    "    Open = []\n",
    "    Closed = []\n",
    "    traversed = []\n",
    "    dot = Graph(comment='DFS')\n",
    "\n",
    "    Open.append(initialNode)\n",
    "    while(Open):\n",
    "        currentNode = Open[-1]\n",
    "        if(currentNode == goalNode):\n",
    "            break\n",
    "\n",
    "        Open = Open[1:len(Open)-1]\n",
    "        #print(Open)\n",
    "        Closed.append(currentNode)\n",
    "        #print(Closed)\n",
    "\n",
    "        uniqueFrom = []\n",
    "        childFrom = edgeList[(edgeList[\"from\"]==currentNode)]\n",
    "        for i in childFrom['to']:\n",
    "            if i not in Closed:\n",
    "                uniqueFrom.append(i)\n",
    "\n",
    "        uniqueTo = []\n",
    "        childTo = edgeList[(edgeList['to']==currentNode)]\n",
    "        for i in childTo['from']:\n",
    "            if i not in Closed:\n",
    "                uniqueTo.append(i)\n",
    "        \n",
    "        childNode = []\n",
    "\n",
    "        for i in uniqueFrom:\n",
    "            if i not in Open:\n",
    "                Open.append(i)\n",
    "                childNode.append(i)\n",
    "        for i in uniqueTo:\n",
    "            if i not in Open:\n",
    "                Open.append(i)\n",
    "                childNode.append(i)\n",
    "        #print(Open)\n",
    "\n",
    "        for i in childNode:\n",
    "            traversed.append(currentNode+i)\n",
    "\n",
    "        print(traversed)\n",
    "\n",
    "        dot.node(currentNode,color=\"red\")\n",
    "    \n",
    "    dot.node(\"M\",color=\"green\")\n",
    "    dot.edges(traversed)\n",
    "\n",
    "    dot.render('output/dfs.gv', view=True)  \n",
    "    'output/dfs.gv.pdf'\n",
    "\n",
    "    return Closed\n",
    "\n",
    "edgeList = pd.read_csv('edge_list.csv')\n",
    "\n",
    "\n",
    "dfsPath = dfsCalculate(edgeList,\"A\",\"M\")\n",
    "print(\"DFS PATH: \")\n",
    "print(dfsPath)"
   ]
  },
  {
   "cell_type": "code",
   "execution_count": null,
   "metadata": {},
   "outputs": [],
   "source": []
  }
 ],
 "metadata": {
  "language_info": {
   "codemirror_mode": {
    "name": "ipython",
    "version": 3
   },
   "file_extension": ".py",
   "mimetype": "text/x-python",
   "name": "python",
   "nbconvert_exporter": "python",
   "pygments_lexer": "ipython3",
   "version": 3
  },
  "orig_nbformat": 2,
  "kernelspec": {
   "name": "python_defaultSpec_1610870181589",
   "display_name": "Python 3.8.5 64-bit"
  }
 },
 "nbformat": 4,
 "nbformat_minor": 2
}