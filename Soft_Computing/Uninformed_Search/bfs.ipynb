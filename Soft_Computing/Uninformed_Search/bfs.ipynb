{
 "cells": [
  {
   "cell_type": "code",
   "execution_count": 17,
   "metadata": {},
   "outputs": [
    {
     "output_type": "stream",
     "name": "stdout",
     "text": "['AB', 'AC']\n['AB', 'AC', 'BD']\n['AB', 'AC', 'BD', 'CF', 'CL']\n['AB', 'AC', 'BD', 'CF', 'CL', 'DE']\n['AB', 'AC', 'BD', 'CF', 'CL', 'DE', 'FJ', 'FK']\n['AB', 'AC', 'BD', 'CF', 'CL', 'DE', 'FJ', 'FK', 'LM']\n['AB', 'AC', 'BD', 'CF', 'CL', 'DE', 'FJ', 'FK', 'LM', 'EG']\n['AB', 'AC', 'BD', 'CF', 'CL', 'DE', 'FJ', 'FK', 'LM', 'EG', 'JI']\n['AB', 'AC', 'BD', 'CF', 'CL', 'DE', 'FJ', 'FK', 'LM', 'EG', 'JI']\nBFS PATH: \n['A', 'B', 'C', 'D', 'F', 'L', 'E', 'J', 'K']\n"
    }
   ],
   "source": [
    "import pandas as pd\n",
    "from graphviz import Graph\n",
    "\n",
    "\n",
    "def bfsCalculate(edgeList, initialNode, goalNode):\n",
    "    Open = []\n",
    "    Closed = []\n",
    "    traversed = []\n",
    "    dot = Graph(comment='BFS')\n",
    "\n",
    "    Open.append(initialNode)\n",
    "    while(Open):\n",
    "        currentNode = Open[0]\n",
    "        if(currentNode == goalNode):\n",
    "            break\n",
    "\n",
    "        Open = Open[1:len(Open)]\n",
    "        #print(Open)\n",
    "        Closed.append(currentNode)\n",
    "        #print(Closed)\n",
    "\n",
    "        uniqueFrom = []\n",
    "        childFrom = edgeList[(edgeList[\"from\"]==currentNode)]\n",
    "        for i in childFrom['to']:\n",
    "            if i not in Closed:\n",
    "                uniqueFrom.append(i)\n",
    "\n",
    "        uniqueTo = []\n",
    "        childTo = edgeList[(edgeList['to']==currentNode)]\n",
    "        for i in childTo['from']:\n",
    "            if i not in Closed:\n",
    "                uniqueTo.append(i)\n",
    "        \n",
    "        childNode = []\n",
    "\n",
    "        for i in uniqueFrom:\n",
    "            if i not in Open:\n",
    "                Open.append(i)\n",
    "                childNode.append(i)\n",
    "\n",
    "        for i in uniqueTo:\n",
    "            if i not in Open:\n",
    "                Open.append(i)\n",
    "                childNode.append(i)\n",
    "\n",
    "         \n",
    "        for i in childNode:\n",
    "            traversed.append(currentNode+i)\n",
    "\n",
    "        print(traversed)\n",
    "        dot.node(currentNode,color=\"red\")\n",
    "\n",
    "    dot.node(\"M\",color=\"green\")\n",
    "\n",
    "    dot.edges(traversed)\n",
    "\n",
    "    dot.render('output/bfs.gv', view=True)  \n",
    "    'output/bfs.gv.pdf'\n",
    "    return Closed\n",
    "\n",
    "edgeList = pd.read_csv('edge_list.csv')\n",
    "\n",
    "\n",
    "bfsPath = bfsCalculate(edgeList,\"A\",\"M\")\n",
    "print(\"BFS PATH: \")\n",
    "print(bfsPath)"
   ]
  },
  {
   "cell_type": "code",
   "execution_count": null,
   "metadata": {},
   "outputs": [],
   "source": []
  }
 ],
 "metadata": {
  "language_info": {
   "codemirror_mode": {
    "name": "ipython",
    "version": 3
   },
   "file_extension": ".py",
   "mimetype": "text/x-python",
   "name": "python",
   "nbconvert_exporter": "python",
   "pygments_lexer": "ipython3",
   "version": 3
  },
  "orig_nbformat": 2,
  "kernelspec": {
   "name": "python_defaultSpec_1610870167587",
   "display_name": "Python 3.8.5 64-bit"
  }
 },
 "nbformat": 4,
 "nbformat_minor": 2
}